{
 "cells": [
  {
   "cell_type": "code",
   "execution_count": null,
   "id": "cc218e09-2f05-437f-b8e7-1ab0fbcfa138",
   "metadata": {},
   "outputs": [],
   "source": []
  }
 ],
 "metadata": {
  "kernelspec": {
   "display_name": "",
   "name": ""
  },
  "language_info": {
   "name": ""
  }
 },
 "nbformat": 4,
 "nbformat_minor": 5
}
